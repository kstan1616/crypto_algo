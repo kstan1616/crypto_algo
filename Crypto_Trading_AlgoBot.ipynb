{
 "cells": [
  {
   "cell_type": "code",
   "execution_count": 92,
   "metadata": {
    "collapsed": true
   },
   "outputs": [],
   "source": [
    "import pandas as pd\n",
    "import datetime\n",
    "import time\n",
    "import numpy as np"
   ]
  },
  {
   "cell_type": "code",
   "execution_count": 93,
   "metadata": {
    "collapsed": false
   },
   "outputs": [],
   "source": [
    "from coinmarketcap import Market"
   ]
  },
  {
   "cell_type": "code",
   "execution_count": 94,
   "metadata": {
    "collapsed": true
   },
   "outputs": [],
   "source": [
    "coinmarketcap = Market()"
   ]
  },
  {
   "cell_type": "code",
   "execution_count": 95,
   "metadata": {
    "collapsed": true
   },
   "outputs": [],
   "source": [
    "def format_new_data(df, coin):\n",
    "    df.columns = [str(col) + '_{}'.format(coin) for col in df.columns]\n",
    "    df['last_updated_{}'.format(coin)] = df['last_updated_{}'.format(coin)].apply(lambda x: datetime.datetime.fromtimestamp(int(x)).strftime('%Y-%m-%d %H:%M:%S'))\n",
    "    return df"
   ]
  },
  {
   "cell_type": "code",
   "execution_count": 96,
   "metadata": {
    "collapsed": false
   },
   "outputs": [],
   "source": [
    "def rsi(x, coin):\n",
    "    delta = x['price_usd_{}'.format(coin)].iloc[-15:] - x['price_usd_{}'.format(coin)].iloc[-15:].shift(1)\n",
    "    up, down = delta.copy(), delta.copy()\n",
    "    up[up < 0] = 0\n",
    "    down[down > 0] = 0\n",
    "    RSI = 100.0 - (100.0 / (1 + (float((sum(up[1:])/14))/(sum(down[1:].abs()/14)))))\n",
    "    return RSI\n",
    "\n",
    "def MACD(x, coin):\n",
    "#     x['26 ema'] = \n",
    "    tsix = x['price_usd_{}'.format(coin)].ewm(span = 26).mean()\n",
    "    twelve = x['price_usd_{}'.format(coin)].ewm(span = 12).mean()\n",
    "    MACD = twelve - tsix\n",
    "    signal = MACD.ewm(span=9).mean()\n",
    "    return MACD[-1]\n",
    "\n",
    "def MACD_signal(x, coin):\n",
    "    signal = x['MACD_{}'.format(coin)].ewm(span=9).mean()\n",
    "    return signal[-1]\n",
    "    \n",
    "def stoch_rsi(x, coin):\n",
    "    rsi = x['rsi_{}'.format(coin)].iloc[-1]\n",
    "    rsi_window = x['rsi_{}'.format(coin)].iloc[-14:]\n",
    "    rsi_max = float(rsi_window.max())\n",
    "    rsi_min = rsi_window.min()\n",
    "    return (rsi - rsi_min) / (rsi_max - rsi_min)\n",
    "\n",
    "def cci(x, coin):\n",
    "    x['typical_price'] = ((x['price_usd_{}'.format(coin)] - x['price_usd_{}'.format(coin)].shift()) / 2\\\n",
    "                         + x['price_usd_{}'.format(coin)].shift())\n",
    "    x['rolling_tp'] = x['typical_price'].rolling(14).mean()\n",
    "    mean_deviation = (x['typical_price'].iloc[-14:] - x['rolling_tp'].iloc[-14:]).abs().sum() / 14\n",
    "    return (x['typical_price'].iloc[-1] - x['rolling_tp'].iloc[-1]) / (0.15 - mean_deviation)\n",
    "\n",
    "def williams_r(x, coin):\n",
    "    lowest_low = x['price_usd_{}'.format(coin)].iloc[-14:].min()\n",
    "    highest_high = x['price_usd_{}'.format(coin)].iloc[-14:].max()\n",
    "    return (highest_high - float(x['price_usd_{}'.format(coin)].iloc[-1]))/(highest_high - lowest_low) * -100"
   ]
  },
  {
   "cell_type": "code",
   "execution_count": 97,
   "metadata": {
    "collapsed": false
   },
   "outputs": [],
   "source": [
    "# def rules for trading\n",
    "\n",
    "def MACD_trade(x, coin):\n",
    "    if x['MACD_{}'.format(coin)].iloc[-1] > x['signal_{}'.format(coin)].iloc[-1]:\n",
    "        return 'bullish'\n",
    "    elif x['MACD_{}'.format(coin)].iloc[-1] < x['signal_{}'.format(coin)].iloc[-1]:\n",
    "        return 'bearish'\n",
    "    else:\n",
    "        return None\n",
    "    \n",
    "def CCI_trade(x, coin):    \n",
    "    if x['cci_{}'.format(coin)].iloc[-1] < -100:\n",
    "        return 'bearish'\n",
    "    elif x['cci_{}'.format(coin)].iloc[-1] > 100:\n",
    "        return 'bullish'\n",
    "    else:\n",
    "        return None\n",
    "    \n",
    "def Stoch_RSI_trade(x, coin):\n",
    "    if x['stoch_rsi_{}'.format(coin)].iloc[-1] > .8:\n",
    "        return 'bullish'\n",
    "    elif x['stoch_rsi_{}'.format(coin)].iloc[-1] < .2:\n",
    "        return 'bearish'\n",
    "    else:\n",
    "        return None\n",
    "    \n",
    "def Williams_R_trade(x, coin):\n",
    "    if x['r_{}'.format(coin)].iloc[-1] < -80:\n",
    "        return 'bullish'\n",
    "    elif x['r_{}'.format(coin)].iloc[-1] > -20:\n",
    "        return 'bearish'\n",
    "    else:\n",
    "        return None"
   ]
  },
  {
   "cell_type": "code",
   "execution_count": 101,
   "metadata": {
    "collapsed": true
   },
   "outputs": [],
   "source": [
    "def buy_sell(x, coin):\n",
    "    count_buy = 0\n",
    "    count_sell = 0\n",
    "    for indicator in [x['MACD_trade_{}'.format(coin)].iloc[-1], x['CCI_trade_{}'.format(coin)].iloc[-1], \\\n",
    "                      x['Stoch_RSI_trade_{}'.format(coin)].iloc[-1], x['Williams_R_trade_{}'.format(coin)].iloc[-1]]:\n",
    "        if indicator == 'bullish':\n",
    "            count_buy += 1\n",
    "        if indicator == 'bearish':\n",
    "            count_buy += 1\n",
    "    final_indicator = count_buy - count_sell\n",
    "    if final_indicator > 3:\n",
    "        return 'strong buy'\n",
    "    elif final_indicator >= 2:\n",
    "        return 'buy'\n",
    "    elif final_indicator < 2 & final_indicator > 0:\n",
    "        return 'watch buy'\n",
    "    elif final_indicator <-3:\n",
    "        return 'strong sell'\n",
    "    elif final_indicator <= -2:\n",
    "        return 'sell'\n",
    "    elif final_indicator >-2 & final_indicator < 0:\n",
    "        return 'watch sell'\n",
    "    else:\n",
    "        return 'no signal'"
   ]
  },
  {
   "cell_type": "code",
   "execution_count": 102,
   "metadata": {
    "collapsed": true
   },
   "outputs": [],
   "source": [
    "def execute_data_pull():\n",
    "    ethereum = pd.DataFrame(coinmarketcap.ticker('Ethereum', limit=3, convert='USD'))\n",
    "    ethereum = format_new_data(ethereum, 'ethereum')\n",
    "    bitcoin = pd.DataFrame(coinmarketcap.ticker('Bitcoin', limit=3, convert='USD'))\n",
    "    bitcoin = format_new_data(bitcoin, 'bitcoin')\n",
    "    bitcoin_ethereum = pd.merge(bitcoin, ethereum, left_index=True, right_index=True)\n",
    "    return bitcoin_ethereum"
   ]
  },
  {
   "cell_type": "code",
   "execution_count": 103,
   "metadata": {
    "collapsed": false
   },
   "outputs": [
    {
     "name": "stderr",
     "output_type": "stream",
     "text": [
      "/anaconda/lib/python2.7/site-packages/ipykernel/__main__.py:26: RuntimeWarning: invalid value encountered in double_scalars\n"
     ]
    }
   ],
   "source": [
    "f = open('csvfile.csv','w')\n",
    "x = 0\n",
    "while x < 40:\n",
    "#     time_start = datetime.datetime.now()\n",
    "    btc_eth = execute_data_pull()\n",
    "    btc_eth['last_updated_bitcoin'] = datetime.datetime.now() + datetime.timedelta(minutes = x)\n",
    "    btc_eth['price_usd_bitcoin'] = np.random.randint(20)\n",
    "    btc_eth['price_usd_ethereum'] = np.random.randint(20)\n",
    "    btc_eth.set_index('last_updated_bitcoin', inplace=True)\n",
    "    try:\n",
    "        df = df.append(btc_eth)\n",
    "    except:\n",
    "        df = btc_eth\n",
    "        df = df.reindex(columns = [df.columns.tolist() + ['rsi_ethereum','MACD_ethereum', \\\n",
    "                                                          'rsi_bitcoin', 'MACD_bitcoin',\\\n",
    "                                                         'stoch_rsi_ethereum', 'stoch_rsi_bitcoin',\\\n",
    "                                                         'cci_ethereum', 'cci_bitcoin',\\\n",
    "                                                         'r_ethereum', 'r_bitcoin',\\\n",
    "                                                         'signal_ethereum', 'signal_bitcoin',\\\n",
    "                                                         'MACD_trade_ethereum', 'MACD_trade_bitcoin',\\\n",
    "                                                         'CCI_trade_ethereum', 'CCI_trade_bitcoin',\\\n",
    "                                                         'Stoch_RSI_trade_ethereum', 'Stoch_RSI_trade_bitcoin',\\\n",
    "                                                         'Williams_R_trade_ethereum', 'Williams_R_trade_bitcoin',\\\n",
    "                                                         'buy_sell_ethereum', 'buy_sell_bitcoin']], fill_value=None)\n",
    "    if x > 31:\n",
    "        df.loc[df.index[-1], 'rsi_ethereum'] = rsi(df, 'ethereum')\n",
    "        df.loc[df.index[-1], 'MACD_ethereum'] = MACD(df, 'ethereum')\n",
    "        df.loc[df.index[-1], 'signal_ethereum'] = MACD_signal(df, 'ethereum')\n",
    "        df.loc[df.index[-1], 'rsi_bitcoin'] = rsi(df, 'bitcoin')\n",
    "        df.loc[df.index[-1], 'MACD_bitcoin'] = MACD(df, 'bitcoin')\n",
    "        df.loc[df.index[-1], 'signal_bitcoin'] = MACD_signal(df, 'bitcoin')\n",
    "        df.loc[df.index[-1], 'stoch_rsi_bitcoin'] = stoch_rsi(df, 'bitcoin')\n",
    "        df.loc[df.index[-1], 'stoch_rsi_ethereum'] = stoch_rsi(df, 'ethereum')\n",
    "        df.loc[df.index[-1], 'cci_bitcoin'] = cci(df, 'bitcoin')\n",
    "        df.loc[df.index[-1], 'cci_ethereum'] = cci(df, 'ethereum')\n",
    "        df.loc[df.index[-1], 'r_bitcoin'] = williams_r(df, 'bitcoin')\n",
    "        df.loc[df.index[-1], 'r_ethereum'] = williams_r(df, 'ethereum')\n",
    "        df.loc[df.index[-1], 'MACD_trade_ethereum'] = MACD_trade(df, 'ethereum')\n",
    "        df.loc[df.index[-1], 'MACD_trade_bitcoin'] = MACD_trade(df, 'bitcoin')\n",
    "        df.loc[df.index[-1], 'CCI_trade_ethereum'] = CCI_trade(df, 'ethereum')\n",
    "        df.loc[df.index[-1], 'CCI_trade_bitcoin'] = CCI_trade(df, 'bitcoin')\n",
    "        df.loc[df.index[-1], 'Stoch_RSI_trade_ethereum'] = Stoch_RSI_trade(df, 'ethereum')\n",
    "        df.loc[df.index[-1], 'Stoch_RSI_trade_bitcoin'] = Stoch_RSI_trade(df, 'bitcoin')\n",
    "        df.loc[df.index[-1], 'Williams_R_trade_ethereum'] = Williams_R_trade(df, 'ethereum')\n",
    "        df.loc[df.index[-1], 'Williams_R_trade_bitcoin'] = Williams_R_trade(df, 'bitcoin')\n",
    "        df.loc[df.index[-1], 'buy_sell_ethereum'] = buy_sell(df, 'ethereum')\n",
    "        df.loc[df.index[-1], 'buy_sell_bitcoin'] = buy_sell(df, 'bitcoin')\n",
    "#     f.write(df.iloc[-1])\n",
    "    df = df.iloc[1:]\n",
    "    time.sleep(1)\n",
    "#     time.sleep(5 - time_start - datetime.datetime.now())\n",
    "    x += 1\n",
    "f.close()"
   ]
  },
  {
   "cell_type": "code",
   "execution_count": null,
   "metadata": {
    "collapsed": true
   },
   "outputs": [],
   "source": [
    "from bittrex.bittrex import *\n",
    "\n",
    "my_bittrex = Bittrex(\"<my_api_key>\", \"<my_api_secret>\", api_version=\"<API_V1_1> or <API_V2_0>\")\n",
    "\n",
    "my_bittrex.get_balance('ETH')"
   ]
  }
 ],
 "metadata": {
  "anaconda-cloud": {},
  "kernelspec": {
   "display_name": "Python [conda root]",
   "language": "python",
   "name": "conda-root-py"
  },
  "language_info": {
   "codemirror_mode": {
    "name": "ipython",
    "version": 2
   },
   "file_extension": ".py",
   "mimetype": "text/x-python",
   "name": "python",
   "nbconvert_exporter": "python",
   "pygments_lexer": "ipython2",
   "version": "2.7.12"
  }
 },
 "nbformat": 4,
 "nbformat_minor": 1
}
